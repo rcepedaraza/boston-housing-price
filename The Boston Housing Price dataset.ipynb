{
 "cells": [
  {
   "cell_type": "markdown",
   "id": "da84b941",
   "metadata": {},
   "source": [
    "###  Loading the Boston housing dataset"
   ]
  },
  {
   "cell_type": "code",
   "execution_count": 1,
   "id": "a0a24ab0",
   "metadata": {},
   "outputs": [],
   "source": [
    "from tensorflow.keras.datasets import boston_housing\n",
    "from sklearn.preprocessing import normalize\n",
    "from tensorflow.keras import layers, models\n",
    "from sklearn.model_selection import KFold\n",
    "\n",
    "import numpy as np "
   ]
  },
  {
   "cell_type": "code",
   "execution_count": 2,
   "id": "96c13c2e",
   "metadata": {},
   "outputs": [],
   "source": [
    "(train_data, train_targets), (test_data, test_targets) = boston_housing.load_data()"
   ]
  },
  {
   "cell_type": "code",
   "execution_count": 3,
   "id": "99950cc3",
   "metadata": {},
   "outputs": [
    {
     "output_type": "stream",
     "name": "stdout",
     "text": [
      "[  1.23247   0.        8.14      0.        0.538     6.142    91.7\n   3.9769    4.      307.       21.      396.9      18.72   ]\n"
     ]
    }
   ],
   "source": [
    "print(train_data[0])"
   ]
  },
  {
   "cell_type": "code",
   "execution_count": 4,
   "id": "c6ae43d0",
   "metadata": {},
   "outputs": [
    {
     "output_type": "stream",
     "name": "stdout",
     "text": [
      "(404, 13)\n(102, 13)\n"
     ]
    }
   ],
   "source": [
    "print(train_data.shape)\n",
    "print(test_data.shape)"
   ]
  },
  {
   "cell_type": "markdown",
   "id": "ff84263d",
   "metadata": {},
   "source": [
    "We can see that we have 404 training samples and 102 test samples, each with 13 numerical features."
   ]
  },
  {
   "cell_type": "code",
   "execution_count": 5,
   "id": "37e0fdca",
   "metadata": {},
   "outputs": [
    {
     "output_type": "stream",
     "name": "stdout",
     "text": [
      "15.2\n"
     ]
    }
   ],
   "source": [
    "print(train_targets[0])"
   ]
  },
  {
   "cell_type": "markdown",
   "id": "93c9b6e6",
   "metadata": {},
   "source": [
    "The targets are the median values of the houses at a location in 1000's of dollars."
   ]
  },
  {
   "cell_type": "markdown",
   "id": "da0f1d91",
   "metadata": {},
   "source": [
    "### Preparing the data"
   ]
  },
  {
   "cell_type": "code",
   "execution_count": 6,
   "id": "3b55045b",
   "metadata": {},
   "outputs": [
    {
     "output_type": "execute_result",
     "data": {
      "text/plain": [
       "array([[6.15626701e-03, 0.00000000e+00, 3.10983151e-02, ...,\n",
       "        5.61526372e-02, 5.38018011e-02, 6.35435054e-02],\n",
       "       [1.08742552e-04, 1.55659962e-01, 7.75547662e-03, ...,\n",
       "        3.93068460e-02, 5.35957574e-02, 1.05566401e-02],\n",
       "       [2.44669243e-02, 0.00000000e+00, 6.91498162e-02, ...,\n",
       "        5.40134891e-02, 5.09036340e-02, 1.10658028e-02],\n",
       "       ...,\n",
       "       [1.73128932e-04, 6.60375595e-02, 2.31518169e-02, ...,\n",
       "        4.51895032e-02, 4.91048185e-02, 2.65782931e-02],\n",
       "       [1.07352925e-02, 0.00000000e+00, 7.48040553e-02, ...,\n",
       "        3.93068460e-02, 3.55086465e-02, 5.35978606e-02],\n",
       "       [7.18789766e-05, 1.13207245e-01, 1.11938653e-02, ...,\n",
       "        4.17133876e-02, 5.10635890e-02, 1.48675509e-02]])"
      ]
     },
     "metadata": {},
     "execution_count": 6
    }
   ],
   "source": [
    "normalize(train_data, axis=0) # Feature-wise normalization"
   ]
  },
  {
   "cell_type": "markdown",
   "id": "330db7c2",
   "metadata": {},
   "source": [
    "### Building the neural network"
   ]
  },
  {
   "cell_type": "code",
   "execution_count": 7,
   "id": "fe626404",
   "metadata": {},
   "outputs": [],
   "source": [
    "def build_model():\n",
    "    model = models.Sequential()\n",
    "    model.add(layers.Dense(64, activation='relu', input_shape=(train_data.shape[1], )))\n",
    "    model.add(layers.Dense(64, activation='relu'))\n",
    "    model.add(layers.Dense(1)) # Output layer. Single unit and no activation\n",
    "    \n",
    "    model.compile(loss='mse', # Computes the mean squared error between labels and predictions.\n",
    "                  optimizer='rmsprop',\n",
    "                  metrics=['mae']) # Computes the mean absolute error between labels and predictions.\n",
    "    return model"
   ]
  },
  {
   "cell_type": "markdown",
   "id": "2fe0eabf",
   "metadata": {},
   "source": [
    "### K-fold validation"
   ]
  },
  {
   "cell_type": "code",
   "execution_count": 8,
   "id": "a7209a70",
   "metadata": {},
   "outputs": [
    {
     "output_type": "execute_result",
     "data": {
      "text/plain": [
       "4"
      ]
     },
     "metadata": {},
     "execution_count": 8
    }
   ],
   "source": [
    "K = 4\n",
    "k_fold_validation = KFold(n_splits=K)\n",
    "k_fold_validation.get_n_splits(train_data) # Returns the number of splitting iterations in the cross-validator"
   ]
  },
  {
   "cell_type": "code",
   "execution_count": 9,
   "id": "236621b2",
   "metadata": {
    "tags": []
   },
   "outputs": [],
   "source": [
    "EPOCHS = 500\n",
    "all_scores = []\n",
    "for train_index, valid_index in k_fold_validation.split(train_data):\n",
    "    model = build_model()\n",
    "    model.fit(train_data[train_index], train_targets[train_index],\n",
    "              epochs=EPOCHS, batch_size=1, verbose=0)\n",
    "    val_mse, val_mae = model.evaluate(train_data[valid_index], train_targets[valid_index],\n",
    "                                      verbose=0)\n",
    "    all_scores.append(val_mae) "
   ]
  },
  {
   "cell_type": "code",
   "execution_count": 11,
   "metadata": {},
   "outputs": [
    {
     "output_type": "stream",
     "name": "stdout",
     "text": [
      "[3.213961362838745, 2.799401044845581, 3.2707102298736572, 3.460131883621216]\n"
     ]
    }
   ],
   "source": [
    "print(all_scores)"
   ]
  },
  {
   "cell_type": "code",
   "execution_count": 14,
   "metadata": {},
   "outputs": [
    {
     "output_type": "execute_result",
     "data": {
      "text/plain": [
       "3.1860511302948"
      ]
     },
     "metadata": {},
     "execution_count": 14
    }
   ],
   "source": [
    "np.mean(all_scores)"
   ]
  },
  {
   "source": [],
   "cell_type": "code",
   "metadata": {},
   "execution_count": null,
   "outputs": []
  }
 ],
 "metadata": {
  "kernelspec": {
   "display_name": "tensorflow",
   "language": "python",
   "name": "tensorflow"
  },
  "language_info": {
   "codemirror_mode": {
    "name": "ipython",
    "version": 3
   },
   "file_extension": ".py",
   "mimetype": "text/x-python",
   "name": "python",
   "nbconvert_exporter": "python",
   "pygments_lexer": "ipython3",
   "version": "3.8.8"
  }
 },
 "nbformat": 4,
 "nbformat_minor": 5
}